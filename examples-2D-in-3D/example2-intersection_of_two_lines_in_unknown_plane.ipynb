{
 "cells": [
  {
   "cell_type": "markdown",
   "id": "cdd6997e",
   "metadata": {},
   "source": [
    "# Example 2: Intersection of two lines in an unknown plane\n",
    "Inputs: General lines $\\mathbf{L}_1$ and $\\mathbf{L}_2$ that lie in an unknown plane $\\pi$\n",
    "\n",
    "Output: The intersection $\\mathbf{P}_f$ (flat point) of the lines $\\mathbf{L}_1$ and $\\mathbf{L}_2$"
   ]
  },
  {
   "cell_type": "markdown",
   "id": "f50e94f1",
   "metadata": {},
   "source": [
    "Imports:"
   ]
  },
  {
   "cell_type": "code",
   "execution_count": 1,
   "id": "c50916b5",
   "metadata": {
    "scrolled": false
   },
   "outputs": [
    {
     "name": "stderr",
     "output_type": "stream",
     "text": [
      "c:\\users\\mstod\\pycharmprojects\\geometricobjects\\venv\\lib\\site-packages\\pyganja\\__init__.py:2: UserWarning: Failed to import cef_gui, cef functions will be unavailable\n",
      "  from .script_api import *\n"
     ]
    }
   ],
   "source": [
    "from clifford.g3c import *\n",
    "import numpy as np\n",
    "from pyganja import *\n",
    "from cga_functions import *"
   ]
  },
  {
   "cell_type": "markdown",
   "id": "17fa86e4",
   "metadata": {},
   "source": [
    "Initialization of the plane $\\pi_{xy}$ and the lines $\\mathbf{L}_1$ and $\\mathbf{L}_2$ (Default - the same lines as in Example 1)"
   ]
  },
  {
   "cell_type": "code",
   "execution_count": 2,
   "id": "afd5c7b1",
   "metadata": {},
   "outputs": [],
   "source": [
    "planeXY = e3\n",
    "\n",
    "line1 = -0.44074128*e23 -0.88148255*e13 + 0.50854763*(\n",
    "    e1^einf) + 0.25427381*(e2^einf) + 0.71196668*(e3^einf)\n",
    "line2 = 0.61898446*e23 + 0.68088291*e13-0.37139068*e12 - 0.03094922*(\n",
    "    e1^einf) + 0.12379689*(e2^einf) - 0.27854301*(e3^einf)"
   ]
  },
  {
   "cell_type": "markdown",
   "id": "8cc7b9e7",
   "metadata": {},
   "source": [
    "The plane $\\pi_0$ passing through the origin and containing the direction vectors of lines $\\mathbf{L}_1$ and $\\mathbf{L}_2$:"
   ]
  },
  {
   "cell_type": "code",
   "execution_count": 3,
   "id": "1728e749",
   "metadata": {},
   "outputs": [],
   "source": [
    "plane0 = -I_G3 * ((-duality_pga_partial_2(line1^einf))\n",
    "                  ^(-duality_pga_partial_2(line2^einf)))"
   ]
  },
  {
   "cell_type": "markdown",
   "id": "89c43efb",
   "metadata": {},
   "source": [
    "Finding the plane $\\pi$ as the anti-projection of the plane $\\pi_0$ to the line $\\mathbf{L}_1$"
   ]
  },
  {
   "cell_type": "code",
   "execution_count": 4,
   "id": "5450bb68",
   "metadata": {},
   "outputs": [
    {
     "name": "stdout",
     "output_type": "stream",
     "text": [
      "plane = -(0.74278^e1) - (0.37139^e2) - (0.55709^e3) - (0.27854^e4) - (0.27854^e5)\n"
     ]
    }
   ],
   "source": [
    "plane = norm_plane(-duality_pga(duality_pga(duality_pga_partial_1(line1)\n",
    "                                            ^plane0)^duality_pga(line1)))\n",
    "print(\"plane = \" + str(plane))"
   ]
  },
  {
   "cell_type": "markdown",
   "id": "7a0867c5",
   "metadata": {},
   "source": [
    "Check that the anti-projection of the plane $\\pi_0$ onto the line $\\mathbf{L}_2$ gives the same plane:"
   ]
  },
  {
   "cell_type": "code",
   "execution_count": 5,
   "id": "1515a3a9",
   "metadata": {},
   "outputs": [
    {
     "data": {
      "text/plain": [
       "-(0.74278^e1) - (0.37139^e2) - (0.55709^e3) - (0.27854^e4) - (0.27854^e5)"
      ]
     },
     "execution_count": 5,
     "metadata": {},
     "output_type": "execute_result"
    }
   ],
   "source": [
    "norm_plane(-duality_pga(duality_pga(duality_pga_partial_1(line2)^plane0)\n",
    "                        ^duality_pga(line2)))"
   ]
  },
  {
   "cell_type": "markdown",
   "id": "ce9a6f41",
   "metadata": {},
   "source": [
    "Draw planes $\\pi_{xy}$, $\\pi_{0}$, $\\pi$ and the origin $e_0$:"
   ]
  },
  {
   "cell_type": "code",
   "execution_count": 6,
   "id": "6d94eb3d",
   "metadata": {},
   "outputs": [],
   "source": [
    "GS = GanjaScene()  \n",
    "    \n",
    "GS.add_object(I_CGA * planeXY, color=Color.BLACK, label=\"planeXY\")\n",
    "GS.add_object(I_CGA * plane0, color=Color.BLUE, label=\"plane0\")\n",
    "GS.add_object(I_CGA * plane, color=Color.CYAN, label=\"plane\")\n",
    "GS.add_object(I_CGA * (eo-0.00005*einf), color=Color.MAGENTA, label=\"origin\")\n",
    "\n",
    "draw(GS,scale=2)"
   ]
  },
  {
   "cell_type": "markdown",
   "id": "73738925",
   "metadata": {},
   "source": [
    "<img src=\"C:\\Users\\mstod\\PycharmProjects\\geometricObjects\\planes.png\"/>"
   ]
  },
  {
   "cell_type": "markdown",
   "id": "5d4ba898",
   "metadata": {},
   "source": [
    "Motor $M$ between the plane $\\pi_{xy}$ and the plane $\\pi$:"
   ]
  },
  {
   "cell_type": "code",
   "execution_count": 7,
   "id": "cc1d4841",
   "metadata": {},
   "outputs": [],
   "source": [
    "motor = motor_between_two_planes(planeXY, plane)"
   ]
  },
  {
   "cell_type": "markdown",
   "id": "a6220c97",
   "metadata": {},
   "source": [
    "Transformed pseudoscalar $\\tilde{I}_{C2}$ for the plane $\\pi$:"
   ]
  },
  {
   "cell_type": "code",
   "execution_count": 8,
   "id": "d82c3bc6",
   "metadata": {},
   "outputs": [],
   "source": [
    "I_CRA_0 = motor * I_CRA * ~motor"
   ]
  },
  {
   "cell_type": "markdown",
   "id": "c6da172b",
   "metadata": {},
   "source": [
    "The intersection $\\mathbf{P}^\\bullet_{f}$ of the lines $\\mathbf{L}_1$ and $\\mathbf{L}_2$"
   ]
  },
  {
   "cell_type": "code",
   "execution_count": 9,
   "id": "ff7996a8",
   "metadata": {},
   "outputs": [
    {
     "name": "stdout",
     "output_type": "stream",
     "text": [
      "intersection flat point = (1.29487^e14) + (1.29487^e15) - (0.97436^e24) - (0.97436^e25) - (0.57692^e34) - (0.57692^e35) - (1.0^e45)\n"
     ]
    }
   ],
   "source": [
    "flat_point = clear_cga_object(norm_flat_point_opns(I_CRA_0 * ((I_CGA * I_CRA_0 * line1)\n",
    "                                                              ^ (I_CGA * I_CRA_0 * line2))))\n",
    "print(\"intersection flat point = \" + str(flat_point))"
   ]
  },
  {
   "cell_type": "markdown",
   "id": "dfbfb643",
   "metadata": {},
   "source": [
    "Draw objects:"
   ]
  },
  {
   "cell_type": "code",
   "execution_count": 10,
   "id": "ca44c43d",
   "metadata": {
    "scrolled": false
   },
   "outputs": [],
   "source": [
    "GS = GanjaScene()   \n",
    "GS.add_object(I_CGA * line1, color=Color.BLUE, label=\"L1\")\n",
    "GS.add_object(I_CGA * line2, color=Color.CYAN, label=\"L2\")\n",
    "GS.add_object(flat_point, color=Color.BLACK, label=\"midpoint Pf\")\n",
    "draw(GS,scale=0.5)"
   ]
  },
  {
   "cell_type": "markdown",
   "id": "7b4ba1df",
   "metadata": {},
   "source": [
    "<img src=\"C:\\Users\\mstod\\PycharmProjects\\geometricObjects\\intersection_of_two_lines.png\"/>"
   ]
  }
 ],
 "metadata": {
  "kernelspec": {
   "display_name": "Python 3 (ipykernel)",
   "language": "python",
   "name": "python3"
  },
  "language_info": {
   "codemirror_mode": {
    "name": "ipython",
    "version": 3
   },
   "file_extension": ".py",
   "mimetype": "text/x-python",
   "name": "python",
   "nbconvert_exporter": "python",
   "pygments_lexer": "ipython3",
   "version": "3.9.4"
  }
 },
 "nbformat": 4,
 "nbformat_minor": 5
}
